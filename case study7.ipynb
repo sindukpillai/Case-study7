{
 "cells": [
  {
   "cell_type": "code",
   "execution_count": 5,
   "id": "f6d9e6a1",
   "metadata": {},
   "outputs": [
    {
     "name": "stdout",
     "output_type": "stream",
     "text": [
      "       SL   SW   PL   PW Classification\n",
      "SlNo                                   \n",
      "1     5.1  3.5  1.4  0.2    Iris-setosa\n",
      "2     4.9  3.0  1.4  0.2    Iris-setosa\n",
      "3     NaN  3.2  1.3  0.2    Iris-setosa\n",
      "4     4.6  3.1  1.5  0.2    Iris-setosa\n",
      "5     5.0  3.6  1.4  0.2    Iris-setosa\n",
      "(150, 5)\n",
      "Index(['SL', 'SW', 'PL', 'PW', 'Classification'], dtype='object')\n"
     ]
    }
   ],
   "source": [
    "import pandas as pd\n",
    "import numpy as np\n",
    "import matplotlib.pyplot as plt\n",
    "import seaborn as sns\n",
    "#Read Dataset  and set col index\n",
    "#created one column (Sl No) in excel file to set up as index column\n",
    "data=pd.read_excel('C:\\\\Users\\\\HP\\\\Desktop\\\\iris.xls',index_col=0)\n",
    "print(data.head())\n",
    "print(data.shape)\n",
    "print(data.columns)\n"
   ]
  },
  {
   "cell_type": "code",
   "execution_count": 6,
   "id": "ce50ccfe",
   "metadata": {},
   "outputs": [
    {
     "data": {
      "text/plain": [
       "SL                7\n",
       "SW                6\n",
       "PL                6\n",
       "PW                0\n",
       "Classification    0\n",
       "dtype: int64"
      ]
     },
     "execution_count": 6,
     "metadata": {},
     "output_type": "execute_result"
    }
   ],
   "source": [
    "#Checking null values in columns\n",
    "data.isna().sum()"
   ]
  },
  {
   "cell_type": "code",
   "execution_count": 7,
   "id": "bd035eba",
   "metadata": {},
   "outputs": [
    {
     "name": "stdout",
     "output_type": "stream",
     "text": [
      "Index(['SL', 'SW', 'PL', 'PW', 'Classification'], dtype='object')\n"
     ]
    }
   ],
   "source": [
    "print(data.columns)\n",
    "#Filling null values with mean values of corresponding colmun values\n",
    "data['SL'].fillna((data['SL'].mean()), inplace=True)\n",
    "data['SW'].fillna((data['SW'].mean()), inplace=True)\n",
    "data['PL'].fillna((data['PL'].mean()), inplace=True)\n",
    "data['PW'].fillna((data['PW'].mean()), inplace=True)"
   ]
  },
  {
   "cell_type": "code",
   "execution_count": 8,
   "id": "51c606e9",
   "metadata": {},
   "outputs": [
    {
     "name": "stdout",
     "output_type": "stream",
     "text": [
      "            SL   SW       PL   PW  Classification\n",
      "SlNo                                             \n",
      "1     5.100000  3.5  1.40000  0.2     Iris-setosa\n",
      "2     4.900000  3.0  1.40000  0.2     Iris-setosa\n",
      "3     5.855944  3.2  1.30000  0.2     Iris-setosa\n",
      "4     4.600000  3.1  1.50000  0.2     Iris-setosa\n",
      "5     5.000000  3.6  1.40000  0.2     Iris-setosa\n",
      "...        ...  ...      ...  ...             ...\n",
      "146   6.700000  3.0  5.20000  2.3  Iris-virginica\n",
      "147   6.300000  2.5  5.00000  1.9  Iris-virginica\n",
      "148   6.500000  3.0  3.75625  2.0  Iris-virginica\n",
      "149   6.200000  3.4  5.40000  2.3  Iris-virginica\n",
      "150   5.900000  3.0  5.10000  1.8  Iris-virginica\n",
      "\n",
      "[150 rows x 5 columns]\n",
      "<class 'pandas.core.frame.DataFrame'>\n",
      "Int64Index: 150 entries, 1 to 150\n",
      "Data columns (total 5 columns):\n",
      " #   Column          Non-Null Count  Dtype  \n",
      "---  ------          --------------  -----  \n",
      " 0   SL              150 non-null    float64\n",
      " 1   SW              150 non-null    float64\n",
      " 2   PL              150 non-null    float64\n",
      " 3   PW              150 non-null    float64\n",
      " 4   Classification  150 non-null    object \n",
      "dtypes: float64(4), object(1)\n",
      "memory usage: 7.0+ KB\n",
      "None\n",
      "            SL   SW       PL   PW  Classification\n",
      "SlNo                                             \n",
      "1     5.100000  3.5  1.40000  0.2               0\n",
      "2     4.900000  3.0  1.40000  0.2               0\n",
      "3     5.855944  3.2  1.30000  0.2               0\n",
      "4     4.600000  3.1  1.50000  0.2               0\n",
      "5     5.000000  3.6  1.40000  0.2               0\n",
      "...        ...  ...      ...  ...             ...\n",
      "146   6.700000  3.0  5.20000  2.3               2\n",
      "147   6.300000  2.5  5.00000  1.9               2\n",
      "148   6.500000  3.0  3.75625  2.0               2\n",
      "149   6.200000  3.4  5.40000  2.3               2\n",
      "150   5.900000  3.0  5.10000  1.8               2\n",
      "\n",
      "[150 rows x 5 columns]\n"
     ]
    }
   ],
   "source": [
    "print(data)\n",
    "print(data.info())\n",
    "## Do Label Encoding for classification column since it has three values to convert in to numeric\n",
    "from sklearn.preprocessing import LabelEncoder\n",
    "label_en=LabelEncoder()\n",
    "a=['Classification']\n",
    "for i in np.arange(len(a)):\n",
    "    data[a[i]]=label_en.fit_transform(data[a[i]])\n",
    "\n",
    "print(data)"
   ]
  },
  {
   "cell_type": "code",
   "execution_count": 9,
   "id": "3c03ce09",
   "metadata": {},
   "outputs": [
    {
     "name": "stdout",
     "output_type": "stream",
     "text": [
      "            SL   SW       PL   PW  Classification     Sepal    Petal\n",
      "SlNo                                                                \n",
      "1     5.100000  3.5  1.40000  0.2               0  8.600000  1.60000\n",
      "2     4.900000  3.0  1.40000  0.2               0  7.900000  1.60000\n",
      "3     5.855944  3.2  1.30000  0.2               0  9.055944  1.50000\n",
      "4     4.600000  3.1  1.50000  0.2               0  7.700000  1.70000\n",
      "5     5.000000  3.6  1.40000  0.2               0  8.600000  1.60000\n",
      "...        ...  ...      ...  ...             ...       ...      ...\n",
      "146   6.700000  3.0  5.20000  2.3               2  9.700000  7.50000\n",
      "147   6.300000  2.5  5.00000  1.9               2  8.800000  6.90000\n",
      "148   6.500000  3.0  3.75625  2.0               2  9.500000  5.75625\n",
      "149   6.200000  3.4  5.40000  2.3               2  9.600000  7.70000\n",
      "150   5.900000  3.0  5.10000  1.8               2  8.900000  6.90000\n",
      "\n",
      "[150 rows x 7 columns]\n"
     ]
    }
   ],
   "source": [
    "# Merging Sepal width and height into sepal and Petal respectively  and create two columns \n",
    "data['Sepal']=data['SL']+data['SW']\n",
    "data['Petal']=data['PL']+data['PW']\n",
    "\n",
    "print(data)"
   ]
  },
  {
   "cell_type": "code",
   "execution_count": 10,
   "id": "8bb25988",
   "metadata": {},
   "outputs": [
    {
     "name": "stdout",
     "output_type": "stream",
     "text": [
      "Index(['SL', 'SW', 'PL', 'PW', 'Classification', 'Sepal', 'Petal'], dtype='object')\n",
      "<class 'pandas.core.frame.DataFrame'>\n",
      "Int64Index: 150 entries, 1 to 150\n",
      "Data columns (total 7 columns):\n",
      " #   Column          Non-Null Count  Dtype  \n",
      "---  ------          --------------  -----  \n",
      " 0   SL              150 non-null    float64\n",
      " 1   SW              150 non-null    float64\n",
      " 2   PL              150 non-null    float64\n",
      " 3   PW              150 non-null    float64\n",
      " 4   Classification  150 non-null    int32  \n",
      " 5   Sepal           150 non-null    float64\n",
      " 6   Petal           150 non-null    float64\n",
      "dtypes: float64(6), int32(1)\n",
      "memory usage: 8.8 KB\n",
      "None\n",
      "(105, 6)\n",
      "(105,)\n",
      "(45, 6)\n",
      "(45,)\n"
     ]
    }
   ],
   "source": [
    "print(data.columns)\n",
    "print(data.info())\n",
    "\n",
    "#Splitting data for testing and training\n",
    "from sklearn.model_selection import train_test_split\n",
    "y=data['Classification']\n",
    "x=data.drop(['Classification'],axis=1)\n",
    "\n",
    "x_train,x_test,y_train,y_test=train_test_split(x,y,random_state=2,test_size=.3)\n",
    "print(x_train.shape)\n",
    "print(y_train.shape)\n",
    "print(x_test.shape)\n",
    "print(y_test.shape)"
   ]
  },
  {
   "cell_type": "code",
   "execution_count": 14,
   "id": "f80f3212",
   "metadata": {},
   "outputs": [
    {
     "name": "stdout",
     "output_type": "stream",
     "text": [
      "Accuracy percentage is 97.78\n",
      "[[17  0  0]\n",
      " [ 0 14  1]\n",
      " [ 0  0 13]]\n",
      "[0.0959199  0.03360086 0.24636374 0.37026454 0.0105969  0.24325406]\n"
     ]
    }
   ],
   "source": [
    "# thi is a classification problem so use Classifier Algorithm as Random Forest\n",
    "from sklearn.ensemble import RandomForestClassifier\n",
    "rf=RandomForestClassifier(n_estimators=50,max_depth=500,random_state=42,criterion=\"entropy\")\n",
    "rf.fit(x_train,y_train)\n",
    "y_pred=rf.predict(x_test)\n",
    "from sklearn.metrics import f1_score,confusion_matrix,accuracy_score\n",
    "#accuracy percentage for prediction\n",
    "\n",
    "print(\"Accuracy percentage is\",str(round(accuracy_score(y_test,y_pred)*100, 2)))\n",
    "print(confusion_matrix(y_test,y_pred))\n",
    "print(rf.feature_importances_)\n",
    "\n"
   ]
  },
  {
   "cell_type": "code",
   "execution_count": 15,
   "id": "8196a101",
   "metadata": {},
   "outputs": [
    {
     "name": "stdout",
     "output_type": "stream",
     "text": [
      "Accuracy percentage is 95.56\n",
      "[[16  1  0]\n",
      " [ 0 14  1]\n",
      " [ 0  0 13]]\n"
     ]
    },
    {
     "name": "stderr",
     "output_type": "stream",
     "text": [
      "C:\\Users\\HP\\anaconda3\\lib\\site-packages\\sklearn\\linear_model\\_logistic.py:814: ConvergenceWarning: lbfgs failed to converge (status=1):\n",
      "STOP: TOTAL NO. of ITERATIONS REACHED LIMIT.\n",
      "\n",
      "Increase the number of iterations (max_iter) or scale the data as shown in:\n",
      "    https://scikit-learn.org/stable/modules/preprocessing.html\n",
      "Please also refer to the documentation for alternative solver options:\n",
      "    https://scikit-learn.org/stable/modules/linear_model.html#logistic-regression\n",
      "  n_iter_i = _check_optimize_result(\n"
     ]
    }
   ],
   "source": [
    "#Implement Logistic Regression \n",
    "from sklearn.linear_model import LogisticRegression\n",
    "logic_model=LogisticRegression()\n",
    "logic_model.fit(x_train,y_train)\n",
    "y_pred=logic_model.predict(x_test)\n",
    "from sklearn.metrics import f1_score,confusion_matrix,accuracy_score\n",
    "#accuracy percentage for prediction\n",
    "print(\"Accuracy percentage is\",str(round(accuracy_score(y_test,y_pred)*100, 2)))\n",
    "print(confusion_matrix(y_test,y_pred))"
   ]
  },
  {
   "cell_type": "code",
   "execution_count": null,
   "id": "3ac1f87b",
   "metadata": {},
   "outputs": [],
   "source": [
    "## Random Forest gives better accuracy in prediction say 97.78 So it can be accepted"
   ]
  }
 ],
 "metadata": {
  "kernelspec": {
   "display_name": "Python 3 (ipykernel)",
   "language": "python",
   "name": "python3"
  },
  "language_info": {
   "codemirror_mode": {
    "name": "ipython",
    "version": 3
   },
   "file_extension": ".py",
   "mimetype": "text/x-python",
   "name": "python",
   "nbconvert_exporter": "python",
   "pygments_lexer": "ipython3",
   "version": "3.9.12"
  }
 },
 "nbformat": 4,
 "nbformat_minor": 5
}
